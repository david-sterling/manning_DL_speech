{
  "nbformat": 4,
  "nbformat_minor": 0,
  "metadata": {
    "colab": {
      "name": "manning DL speech getting started.ipynb",
      "provenance": [],
      "authorship_tag": "ABX9TyMzFi0GIewFhoz6DtdCOAH2",
      "include_colab_link": true
    },
    "kernelspec": {
      "name": "python3",
      "display_name": "Python 3"
    }
  },
  "cells": [
    {
      "cell_type": "markdown",
      "metadata": {
        "id": "view-in-github",
        "colab_type": "text"
      },
      "source": [
        "<a href=\"https://colab.research.google.com/github/david-sterling/manning_DL_speech/blob/main/manning_DL_speech_getting_started.ipynb\" target=\"_parent\"><img src=\"https://colab.research.google.com/assets/colab-badge.svg\" alt=\"Open In Colab\"/></a>"
      ]
    },
    {
      "cell_type": "markdown",
      "metadata": {
        "id": "OeqotBgPg92N"
      },
      "source": [
        "Workflow\n",
        "\n",
        "Set up a data science workstation suitable for deep learning locally or in the cloud. Choose a notebook environment and familiarize yourself with it. We recommended one of two options:\n",
        "run JupyterLab notebooks and install project dependencies locally\n",
        "use Google Colaboratory (Google Colab) cloud notebooks\n",
        "Prepare a Python environment with the required dependencies.\n",
        "numpy\n",
        "scipy\n",
        "pandas\n",
        "matplotlib\n",
        "librosa\n",
        "TensorFlow\n",
        "Acquire and load the data source.\n",
        "Download the speech commands dataset from here.\n",
        "Decompress the archive to a suitable location and set the data_path variable\n",
        "Examine the training data folder.\n",
        "Use pandas to read and examine the .csv file.\n",
        "Load and play a single audio file in a notebook using IPython.display.Audio."
      ]
    },
    {
      "cell_type": "code",
      "metadata": {
        "id": "UBN1USmbg_fJ"
      },
      "source": [
        "import scipy\n",
        "import numpy as np\n",
        "import pandas as pd\n",
        "import matplotlib as mpl\n",
        "import tensorflow as tf\n",
        "import librosa\n"
      ],
      "execution_count": 3,
      "outputs": []
    },
    {
      "cell_type": "code",
      "metadata": {
        "colab": {
          "base_uri": "https://localhost:8080/"
        },
        "id": "tpxcb4rMimnS",
        "outputId": "3523a522-cb34-4423-c724-2d9b357618e5"
      },
      "source": [
        "#Download dataset\n",
        "data_path = \"/content/dataset\"\n",
        "!mkdir dataset\n",
        "!curl http://download.tensorflow.org/data/speech_commands_v0.01.tar.gz | tar -xz -C ./dataset/"
      ],
      "execution_count": 30,
      "outputs": [
        {
          "output_type": "stream",
          "text": [
            "  % Total    % Received % Xferd  Average Speed   Time    Time     Time  Current\n",
            "                                 Dload  Upload   Total   Spent    Left  Speed\n",
            "100 1420M  100 1420M    0     0  34.0M      0  0:00:41  0:00:41 --:--:-- 24.4M\n"
          ],
          "name": "stdout"
        }
      ]
    },
    {
      "cell_type": "code",
      "metadata": {
        "id": "itgoBY_QzTBW"
      },
      "source": [
        ""
      ],
      "execution_count": null,
      "outputs": []
    }
  ]
}